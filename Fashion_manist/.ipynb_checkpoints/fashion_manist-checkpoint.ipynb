{
 "cells": [
  {
   "cell_type": "code",
   "execution_count": 1,
   "metadata": {},
   "outputs": [],
   "source": [
    "import tensorflow as tf"
   ]
  },
  {
   "cell_type": "code",
   "execution_count": 2,
   "metadata": {},
   "outputs": [],
   "source": [
    "manist_data = tf.keras.datasets.fashion_mnist"
   ]
  },
  {
   "cell_type": "code",
   "execution_count": 3,
   "metadata": {},
   "outputs": [
    {
     "name": "stdout",
     "output_type": "stream",
     "text": [
      "Training data size is 60000\n",
      "testing data size is 10000\n"
     ]
    }
   ],
   "source": [
    "(training_images,training_labels), (testing_images,testing_labels) = manist_data.load_data()\n",
    "print(\"Training data size is\",len(training_images))\n",
    "print(\"testing data size is\",len(testing_images))"
   ]
  },
  {
   "cell_type": "code",
   "execution_count": 7,
   "metadata": {},
   "outputs": [
    {
     "name": "stdout",
     "output_type": "stream",
     "text": [
      "9\n",
      "[[  0   0   0   0   0   0   0   0   0   0   0   0   0   0   0   0   0   0   0   0   0   0   0   0   0   0   0   0]\n",
      " [  0   0   0   0   0   0   0   0   0   0   0   0   0   0   0   0   0   0   0   0   0   0   0   0   0   0   0   0]\n",
      " [  0   0   0   0   0   0   0   0   0   0   0   0   0   0   0   0   0   0   0   0   0   0   0   0   0   0   0   0]\n",
      " [  0   0   0   0   0   0   0   0   0   0   0   0   1   0   0  13  73   0   0   1   4   0   0   0   0   1   1   0]\n",
      " [  0   0   0   0   0   0   0   0   0   0   0   0   3   0  36 136 127  62  54   0   0   0   1   3   4   0   0   3]\n",
      " [  0   0   0   0   0   0   0   0   0   0   0   0   6   0 102 204 176 134 144 123  23   0   0   0   0  12  10   0]\n",
      " [  0   0   0   0   0   0   0   0   0   0   0   0   0   0 155 236 207 178 107 156 161 109  64  23  77 130  72  15]\n",
      " [  0   0   0   0   0   0   0   0   0   0   0   1   0  69 207 223 218 216 216 163 127 121 122 146 141  88 172  66]\n",
      " [  0   0   0   0   0   0   0   0   0   1   1   1   0 200 232 232 233 229 223 223 215 213 164 127 123 196 229   0]\n",
      " [  0   0   0   0   0   0   0   0   0   0   0   0   0 183 225 216 223 228 235 227 224 222 224 221 223 245 173   0]\n",
      " [  0   0   0   0   0   0   0   0   0   0   0   0   0 193 228 218 213 198 180 212 210 211 213 223 220 243 202   0]\n",
      " [  0   0   0   0   0   0   0   0   0   1   3   0  12 219 220 212 218 192 169 227 208 218 224 212 226 197 209  52]\n",
      " [  0   0   0   0   0   0   0   0   0   0   6   0  99 244 222 220 218 203 198 221 215 213 222 220 245 119 167  56]\n",
      " [  0   0   0   0   0   0   0   0   0   4   0   0  55 236 228 230 228 240 232 213 218 223 234 217 217 209  92   0]\n",
      " [  0   0   1   4   6   7   2   0   0   0   0   0 237 226 217 223 222 219 222 221 216 223 229 215 218 255  77   0]\n",
      " [  0   3   0   0   0   0   0   0   0  62 145 204 228 207 213 221 218 208 211 218 224 223 219 215 224 244 159   0]\n",
      " [  0   0   0   0  18  44  82 107 189 228 220 222 217 226 200 205 211 230 224 234 176 188 250 248 233 238 215   0]\n",
      " [  0  57 187 208 224 221 224 208 204 214 208 209 200 159 245 193 206 223 255 255 221 234 221 211 220 232 246   0]\n",
      " [  3 202 228 224 221 211 211 214 205 205 205 220 240  80 150 255 229 221 188 154 191 210 204 209 222 228 225   0]\n",
      " [ 98 233 198 210 222 229 229 234 249 220 194 215 217 241  65  73 106 117 168 219 221 215 217 223 223 224 229  29]\n",
      " [ 75 204 212 204 193 205 211 225 216 185 197 206 198 213 240 195 227 245 239 223 218 212 209 222 220 221 230  67]\n",
      " [ 48 203 183 194 213 197 185 190 194 192 202 214 219 221 220 236 225 216 199 206 186 181 177 172 181 205 206 115]\n",
      " [  0 122 219 193 179 171 183 196 204 210 213 207 211 210 200 196 194 191 195 191 198 192 176 156 167 177 210  92]\n",
      " [  0   0  74 189 212 191 175 172 175 181 185 188 189 188 193 198 204 209 210 210 211 188 188 194 192 216 170   0]\n",
      " [  2   0   0   0  66 200 222 237 239 242 246 243 244 221 220 193 191 179 182 182 181 176 166 168  99  58   0   0]\n",
      " [  0   0   0   0   0   0   0  40  61  44  72  41  35   0   0   0   0   0   0   0   0   0   0   0   0   0   0   0]\n",
      " [  0   0   0   0   0   0   0   0   0   0   0   0   0   0   0   0   0   0   0   0   0   0   0   0   0   0   0   0]\n",
      " [  0   0   0   0   0   0   0   0   0   0   0   0   0   0   0   0   0   0   0   0   0   0   0   0   0   0   0   0]]\n"
     ]
    },
    {
     "data": {
      "image/png": "[encoded data removed]",
      "text/plain": [
       "<Figure size 432x288 with 1 Axes>"
      ]
     },
     "metadata": {
      "needs_background": "light"
     },
     "output_type": "display_data"
    }
   ],
   "source": [
    "import numpy as np\n",
    "np.set_printoptions(linewidth=150)\n",
    "import matplotlib.pyplot as plt\n",
    "\n",
    "# Graphical image of picture\n",
    "plt.imshow(training_images[0])\n",
    "print(training_labels[0])\n",
    "\n",
    "# As array of pixel values \n",
    "print(training_images[0])"
   ]
  },
  {
   "cell_type": "code",
   "execution_count": 7,
   "metadata": {},
   "outputs": [],
   "source": [
    "training_images = training_images/255.0\n",
    "testing_images = testing_images/255.0"
   ]
  },
  {
   "cell_type": "code",
   "execution_count": 10,
   "metadata": {},
   "outputs": [
    {
     "name": "stdout",
     "output_type": "stream",
     "text": [
      "Model: \"sequential_3\"\n",
      "_________________________________________________________________\n",
      "Layer (type)                 Output Shape              Param #   \n",
      "=================================================================\n",
      "flatten_3 (Flatten)          (None, 784)               0         \n",
      "_________________________________________________________________\n",
      "dense_6 (Dense)              (None, 512)               401920    \n",
      "_________________________________________________________________\n",
      "dense_7 (Dense)              (None, 10)                5130      \n",
      "=================================================================\n",
      "Total params: 407,050\n",
      "Trainable params: 407,050\n",
      "Non-trainable params: 0\n",
      "_________________________________________________________________\n"
     ]
    }
   ],
   "source": [
    "# class myCallback(tf.keras.callbacks.Callback):\n",
    "#   def on_epoch_end(self, epoch, logs={}):\n",
    "#     if(logs.get('accuracy')<0.95):\n",
    "#       print(\"\\nReached 90% accuracy so cancelling training!\")\n",
    "#       self.model.stop_training = True\n",
    "        \n",
    "# callbacks = myCallback()\n",
    "model = tf.keras.Sequential([tf.keras.layers.Flatten(input_shape=(28,28)),\n",
    "                             tf.keras.layers.Dense(512, activation = tf.nn.relu),\n",
    "                             #tf.keras.layers.Dense(128, activation = tf.nn.relu),\n",
    "                             tf.keras.layers.Dense(10, activation = tf.nn.softmax)])\n",
    "model.summary()"
   ]
  },
  {
   "cell_type": "code",
   "execution_count": 20,
   "metadata": {},
   "outputs": [
    {
     "name": "stdout",
     "output_type": "stream",
     "text": [
      "Epoch 1/12\n",
      "1875/1875 [==============================] - 13s 7ms/step - loss: 0.2146 - accuracy: 0.9200\n",
      "Epoch 2/12\n",
      "1875/1875 [==============================] - 13s 7ms/step - loss: 0.2074 - accuracy: 0.9222\n",
      "Epoch 3/12\n",
      "1875/1875 [==============================] - 12s 7ms/step - loss: 0.1962 - accuracy: 0.9259\n",
      "Epoch 4/12\n",
      "1875/1875 [==============================] - 12s 7ms/step - loss: 0.1906 - accuracy: 0.9279\n",
      "Epoch 5/12\n",
      "1875/1875 [==============================] - 12s 7ms/step - loss: 0.1854 - accuracy: 0.9287\n",
      "Epoch 6/12\n",
      "1875/1875 [==============================] - 14s 7ms/step - loss: 0.1785 - accuracy: 0.9329\n",
      "Epoch 7/12\n",
      "1875/1875 [==============================] - 15s 8ms/step - loss: 0.1731 - accuracy: 0.9345\n",
      "Epoch 8/12\n",
      "1875/1875 [==============================] - 16s 9ms/step - loss: 0.1682 - accuracy: 0.9373\n",
      "Epoch 9/12\n",
      "1875/1875 [==============================] - 12s 7ms/step - loss: 0.1618 - accuracy: 0.9390\n",
      "Epoch 10/12\n",
      "1875/1875 [==============================] - 12s 7ms/step - loss: 0.1576 - accuracy: 0.9406\n",
      "Epoch 11/12\n",
      "1875/1875 [==============================] - 15s 8ms/step - loss: 0.1547 - accuracy: 0.9423\n",
      "Epoch 12/12\n",
      "1875/1875 [==============================] - 15s 8ms/step - loss: 0.1514 - accuracy: 0.9432\n"
     ]
    },
    {
     "data": {
      "text/plain": [
       "<tensorflow.python.keras.callbacks.History at 0x1e47ef3a8e0>"
      ]
     },
     "execution_count": 20,
     "metadata": {},
     "output_type": "execute_result"
    }
   ],
   "source": [
    "model.compile(optimizer= tf.optimizers.Adam(), \n",
    "              loss = 'sparse_categorical_crossentropy',\n",
    "              metrics = ['accuracy'])\n",
    "# model.compile(optimizer = tf.optimizers.Adam(),\n",
    "#               loss = 'sparse_categorical_crossentropy',\n",
    "#               metrics=['accuracy'])\n",
    "model.fit(training_images,training_labels, epochs=12) #,callbacks=[callbacks])"
   ]
  },
  {
   "cell_type": "code",
   "execution_count": 21,
   "metadata": {},
   "outputs": [
    {
     "name": "stdout",
     "output_type": "stream",
     "text": [
      "313/313 [==============================] - 1s 3ms/step - loss: 0.3806 - accuracy: 0.8938\n"
     ]
    },
    {
     "data": {
      "text/plain": [
       "[0.38057899475097656, 0.8938000202178955]"
      ]
     },
     "execution_count": 21,
     "metadata": {},
     "output_type": "execute_result"
    }
   ],
   "source": [
    "# Testing our model on new images that it never seen\n",
    "model.evaluate(testing_images,testing_labels)"
   ]
  },
  {
   "cell_type": "code",
   "execution_count": 37,
   "metadata": {},
   "outputs": [
    {
     "name": "stdout",
     "output_type": "stream",
     "text": [
      "[1 6 9 ... 8 1 8]\n"
     ]
    },
    {
     "data": {
      "text/plain": [
       "10000"
      ]
     },
     "execution_count": 37,
     "metadata": {},
     "output_type": "execute_result"
    }
   ],
   "source": [
    "classifications = model.predict(testing_images).argmax(axis=1)\n",
    "print(classifications)\n",
    "len(classifications)"
   ]
  },
  {
   "cell_type": "code",
   "execution_count": 31,
   "metadata": {},
   "outputs": [
    {
     "name": "stdout",
     "output_type": "stream",
     "text": [
      "predicted label is 1\n",
      "correct label is 1\n",
      "predicted label is 4\n",
      "correct label is 4\n",
      "predicted label is 7\n",
      "correct label is 7\n"
     ]
    }
   ],
   "source": [
    "# For sample examples\n",
    "print(\"predicted label is\",classifications[3])\n",
    "print(\"correct label is\",testing_labels[3])\n",
    "\n",
    "print(\"predicted label is\",classifications[364])\n",
    "print(\"correct label is\",testing_labels[364])\n",
    "\n",
    "print(\"predicted label is\",classifications[573])\n",
    "print(\"correct label is\",testing_labels[573])"
   ]
  },
  {
   "cell_type": "code",
   "execution_count": 34,
   "metadata": {},
   "outputs": [
    {
     "name": "stdout",
     "output_type": "stream",
     "text": [
      "[[850   3  19   9   6   3 106   0   4   0]\n",
      " [  2 989   1   3   2   0   2   0   1   0]\n",
      " [ 12   2 801   5 113   0  67   0   0   0]\n",
      " [ 32  18  15 875  22   1  34   0   3   0]\n",
      " [  0   0  63  35 824   0  77   0   1   0]\n",
      " [  0   0   0   1   0 980   0  11   1   7]\n",
      " [112   0  90  19  49   0 725   0   5   0]\n",
      " [  0   0   0   0   0  12   0 955   0  33]\n",
      " [  7   2   8   1   4   3   5   2 968   0]\n",
      " [  0   0   0   1   0   8   1  19   0 971]]\n"
     ]
    },
    {
     "data": {
      "text/plain": [
       "Text(69.0, 0.5, 'Truth')"
      ]
     },
     "execution_count": 34,
     "metadata": {},
     "output_type": "execute_result"
    },
    {
     "data": {
      "image/png": "[encoded data removed]",
      "text/plain": [
       "<Figure size 720x504 with 2 Axes>"
      ]
     },
     "metadata": {
      "needs_background": "light"
     },
     "output_type": "display_data"
    }
   ],
   "source": [
    "from sklearn.metrics import confusion_matrix\n",
    "cm = confusion_matrix(testing_labels,classifications)\n",
    "print(cm)\n",
    "\n",
    "#for better visualisation\n",
    "import seaborn as sn\n",
    "plt.figure(figsize = (10,7))\n",
    "sn.heatmap(cm, annot=True)\n",
    "plt.xlabel('Predicted')\n",
    "plt.ylabel('Truth')"
   ]
  },
  {
   "cell_type": "code",
   "execution_count": null,
   "metadata": {},
   "outputs": [],
   "source": []
  },
  {
   "cell_type": "code",
   "execution_count": null,
   "metadata": {},
   "outputs": [],
   "source": []
  }
 ],
 "metadata": {
  "kernelspec": {
   "display_name": "Python 3",
   "language": "python",
   "name": "python3"
  },
  "language_info": {
   "codemirror_mode": {
    "name": "ipython",
    "version": 3
   },
   "file_extension": ".py",
   "mimetype": "text/x-python",
   "name": "python",
   "nbconvert_exporter": "python",
   "pygments_lexer": "ipython3",
   "version": "3.8.3"
  }
 },
 "nbformat": 4,
 "nbformat_minor": 4
}
